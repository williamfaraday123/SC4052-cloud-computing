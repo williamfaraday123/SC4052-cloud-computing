{
  "nbformat": 4,
  "nbformat_minor": 0,
  "metadata": {
    "colab": {
      "provenance": [],
      "authorship_tag": "ABX9TyOvbyo0VJjN1YFG+ZYJpslr",
      "include_colab_link": true
    },
    "kernelspec": {
      "name": "python3",
      "display_name": "Python 3"
    },
    "language_info": {
      "name": "python"
    }
  },
  "cells": [
    {
      "cell_type": "markdown",
      "metadata": {
        "id": "view-in-github",
        "colab_type": "text"
      },
      "source": [
        "<a href=\"https://colab.research.google.com/github/williamfaraday123/SC4052-cloud-computing/blob/main/Assignment2_HITS__vs_PageRank.ipynb\" target=\"_parent\"><img src=\"https://colab.research.google.com/assets/colab-badge.svg\" alt=\"Open In Colab\"/></a>"
      ]
    },
    {
      "cell_type": "code",
      "source": [
        "!pip install numpy\n",
        "\n",
        "import numpy as np\n",
        "import sklearn\n",
        "from sklearn.metrics import mean_absolute_error\n",
        "import matplotlib.pyplot as plt\n",
        "import networkx as nx\n",
        "from tabulate import tabulate"
      ],
      "metadata": {
        "colab": {
          "base_uri": "https://localhost:8080/"
        },
        "id": "SAAc6WhXwgzD",
        "outputId": "5915d8ee-e02c-40d4-fc39-538528fb937f"
      },
      "execution_count": 1,
      "outputs": [
        {
          "output_type": "stream",
          "name": "stdout",
          "text": [
            "Requirement already satisfied: numpy in /usr/local/lib/python3.11/dist-packages (2.0.2)\n"
          ]
        }
      ]
    },
    {
      "cell_type": "markdown",
      "source": [
        "# Implementation of HITS and Pagerank algorithms"
      ],
      "metadata": {
        "id": "z4BJAnmL0lCy"
      }
    },
    {
      "cell_type": "code",
      "execution_count": 2,
      "metadata": {
        "id": "XUAyILA4vsn-"
      },
      "outputs": [],
      "source": [
        "def hits_algorithm(adjacency_matrix, max_iter=100, tol=1e-6):\n",
        "    n = adjacency_matrix.shape[0]\n",
        "    hub_scores = np.ones(n) / n\n",
        "    authority_scores = np.ones(n) / n\n",
        "\n",
        "    for iteration in range(max_iter):\n",
        "        new_auth = np.dot(adjacency_matrix.T, hub_scores)\n",
        "        new_hub = np.dot(adjacency_matrix, new_auth)\n",
        "\n",
        "        # Normalize\n",
        "        new_auth = new_auth / np.linalg.norm(new_auth, 2)\n",
        "        new_hub = new_hub / np.linalg.norm(new_hub, 2)\n",
        "\n",
        "        # Check convergence\n",
        "        if (np.linalg.norm(new_auth - authority_scores, 2) < tol and\n",
        "            np.linalg.norm(new_hub - hub_scores, 2) < tol):\n",
        "            break\n",
        "\n",
        "        authority_scores, hub_scores = new_auth, new_hub\n",
        "\n",
        "    return hub_scores, authority_scores, iteration + 1  # +1 because iterations start at 0"
      ]
    },
    {
      "cell_type": "code",
      "source": [
        "def pagerank(adjacency_matrix, damping=0.85, max_iter=100, tol=1e-6):\n",
        "    n = adjacency_matrix.shape[0]\n",
        "\n",
        "    # Convert to probability matrix\n",
        "    out_degree = adjacency_matrix.sum(axis=1)\n",
        "    prob_matrix = np.zeros_like(adjacency_matrix, dtype=float)\n",
        "    for i in range(n):\n",
        "        if out_degree[i] > 0:\n",
        "            prob_matrix[i] = adjacency_matrix[i] / out_degree[i]\n",
        "        else:\n",
        "            prob_matrix[i] = np.ones(n) / n\n",
        "\n",
        "    # Add damping factor\n",
        "    prob_matrix = damping * prob_matrix + (1 - damping) / n\n",
        "\n",
        "    # Power iteration\n",
        "    ranks = np.ones(n) / n\n",
        "    for iteration in range(max_iter):\n",
        "        new_ranks = np.dot(prob_matrix.T, ranks)\n",
        "        if np.linalg.norm(new_ranks - ranks, 2) < tol:\n",
        "            break\n",
        "        ranks = new_ranks\n",
        "\n",
        "    return ranks, iteration + 1"
      ],
      "metadata": {
        "id": "fWYD0FRbwLw_"
      },
      "execution_count": 3,
      "outputs": []
    },
    {
      "cell_type": "markdown",
      "source": [
        "# Illustrative example of small graph\n",
        "Testing both algorithms on a simple 4-node graph:"
      ],
      "metadata": {
        "id": "sRu7irwy0JAy"
      }
    },
    {
      "cell_type": "code",
      "source": [
        "def print_comparison_table(adjacency_matrix):\n",
        "    # Calculate scores\n",
        "    hub_scores, auth_scores, hits_iterations = hits_algorithm(adjacency_matrix)\n",
        "    pr_scores, pagerank_iterations = pagerank(adjacency_matrix)\n",
        "\n",
        "    # Get number of nodes\n",
        "    num_nodes = adjacency_matrix.shape[0]\n",
        "\n",
        "    # Print table header\n",
        "    print(\"\\nComparison of HITS and PageRank Scores\")\n",
        "    print(\"=\"*50)\n",
        "    print(f\"{'Node':<6} | {'HITS Hub':<10} | {'HITS Auth':<10} | {'PageRank':<10}\")\n",
        "    print(\"-\"*50)\n",
        "\n",
        "    # Print each node's scores\n",
        "    for node in range(num_nodes):\n",
        "        print(f\"{node:<6} | {hub_scores[node]:<10.4f} | {auth_scores[node]:<10.4f} | {pr_scores[node]:<10.4f}\")\n",
        "\n",
        "    print(\"=\"*50)\n",
        "\n",
        "# Example usage with the 4-node graph from the report\n",
        "small_adj = np.array([\n",
        "    [0, 1, 1, 0],\n",
        "    [0, 0, 1, 0],\n",
        "    [1, 0, 0, 1],\n",
        "    [0, 0, 1, 0]\n",
        "])\n",
        "\n",
        "print_comparison_table(small_adj)"
      ],
      "metadata": {
        "colab": {
          "base_uri": "https://localhost:8080/"
        },
        "id": "947bvyCxwWa5",
        "outputId": "ae58ff77-2e16-490e-9b6d-f6f40880c973"
      },
      "execution_count": 4,
      "outputs": [
        {
          "output_type": "stream",
          "name": "stdout",
          "text": [
            "\n",
            "Comparison of HITS and PageRank Scores\n",
            "==================================================\n",
            "Node   | HITS Hub   | HITS Auth  | PageRank  \n",
            "--------------------------------------------------\n",
            "0      | 0.7071     | 0.0000     | 0.2199    \n",
            "1      | 0.5000     | 0.3827     | 0.1310    \n",
            "2      | 0.0000     | 0.9239     | 0.4292    \n",
            "3      | 0.5000     | 0.0000     | 0.2199    \n",
            "==================================================\n"
          ]
        }
      ]
    },
    {
      "cell_type": "markdown",
      "source": [
        "# Convergence Analysis\n",
        "Number of iterations required for convergence under different tolerance levels:"
      ],
      "metadata": {
        "id": "iiM0fWbNz16J"
      }
    },
    {
      "cell_type": "code",
      "source": [
        "def test_convergence(adjacency_matrix, tolerance_levels):\n",
        "    results = []\n",
        "\n",
        "    for tol in tolerance_levels:\n",
        "        # Run HITS\n",
        "        _, _, hits_iter = hits_algorithm(adjacency_matrix, tol=tol)\n",
        "\n",
        "        # Run PageRank\n",
        "        _, pr_iter = pagerank(adjacency_matrix, tol=tol)\n",
        "\n",
        "        results.append({\n",
        "            'Tolerance': tol,\n",
        "            'HITS Iterations': hits_iter,\n",
        "            'PageRank Iterations': pr_iter\n",
        "        })\n",
        "\n",
        "    return results"
      ],
      "metadata": {
        "id": "1eODbKq3yuwc"
      },
      "execution_count": 5,
      "outputs": []
    },
    {
      "cell_type": "code",
      "source": [
        "def print_convergence_results(convergence_results):\n",
        "    print(\"\\nConvergence Analysis Results\")\n",
        "    print(\"=\" * 47)\n",
        "    print(\"{:<12} {:<15} {:<20}\".format(\"Tolerance\", \"HITS Iterations\", \"PageRank Iterations\"))\n",
        "    print(\"-\" * 47)\n",
        "\n",
        "    # Print each row in the results\n",
        "    for result in convergence_results:\n",
        "        print(\"{:<12} {:<15} {:<20}\".format(\n",
        "            result['Tolerance'],\n",
        "            result['HITS Iterations'],\n",
        "            result['PageRank Iterations']\n",
        "        ))\n",
        "\n",
        "    print(\"=\" * 47)"
      ],
      "metadata": {
        "id": "_8Dh_eDD5dd4"
      },
      "execution_count": 6,
      "outputs": []
    },
    {
      "cell_type": "code",
      "source": [
        "# Using the small 4-node graph from earlier\n",
        "small_adj = np.array([\n",
        "    [0, 1, 1, 0],\n",
        "    [0, 0, 1, 0],\n",
        "    [1, 0, 0, 1],\n",
        "    [0, 0, 1, 0]\n",
        "])\n",
        "tolerance_levels = [1e-4, 1e-6, 1e-8]\n",
        "results = test_convergence(small_adj, tolerance_levels)\n",
        "print_convergence_results(results)"
      ],
      "metadata": {
        "colab": {
          "base_uri": "https://localhost:8080/"
        },
        "id": "naIe0YbD8thq",
        "outputId": "503d7550-ac40-4a65-c2ae-b8d3484c2c37"
      },
      "execution_count": 7,
      "outputs": [
        {
          "output_type": "stream",
          "name": "stdout",
          "text": [
            "\n",
            "Convergence Analysis Results\n",
            "===============================================\n",
            "Tolerance    HITS Iterations PageRank Iterations \n",
            "-----------------------------------------------\n",
            "0.0001       17              14                  \n",
            "1e-06        25              20                  \n",
            "1e-08        34              26                  \n",
            "===============================================\n"
          ]
        }
      ]
    },
    {
      "cell_type": "markdown",
      "source": [
        "# Stability Analysis\n",
        "- Add Gaussian noise (σ=0.1) to the adjacency matrix while keeping values in [0,1] range and measure score changes\n",
        "- Take Mean Absolute Error (MAE) between original and perturbed scores\n",
        "- Run multiple trials to get reliable averages and standard deviations\n"
      ],
      "metadata": {
        "id": "5xjJUOVs00dz"
      }
    },
    {
      "cell_type": "code",
      "source": [
        "def test_stability(adjacency_matrix, num_trials=100, noise_level=0.1):\n",
        "    \"\"\"\n",
        "    Analyze algorithm stability against random perturbations\n",
        "\n",
        "    Parameters:\n",
        "    adjacency_matrix: Original adjacency matrix\n",
        "    num_trials: Number of perturbation trials\n",
        "    noise_level: Standard deviation of Gaussian noise\n",
        "\n",
        "    Returns:\n",
        "    Dictionary containing average score changes for both algorithms\n",
        "    \"\"\"\n",
        "    # Get baseline scores\n",
        "    base_hub, base_auth, _ = hits_algorithm(adjacency_matrix)\n",
        "    base_pr, _ = pagerank(adjacency_matrix)\n",
        "\n",
        "    hits_changes = []\n",
        "    pr_changes = []\n",
        "\n",
        "    for _ in range(num_trials):\n",
        "        # Add random noise to adjacency matrix\n",
        "        noise = np.random.normal(0, noise_level, adjacency_matrix.shape)\n",
        "        perturbed_adj = adjacency_matrix + noise\n",
        "        perturbed_adj = np.clip(perturbed_adj, 0, 1)  # Keep in valid range\n",
        "\n",
        "        # Compute perturbed scores\n",
        "        perturbed_hub, perturbed_auth, _ = hits_algorithm(perturbed_adj)\n",
        "        perturbed_pr, _ = pagerank(perturbed_adj)\n",
        "\n",
        "        # Calculate changes (using authority scores for HITS)\n",
        "        hits_change = mean_absolute_error(base_auth, perturbed_auth)\n",
        "        pr_change = mean_absolute_error(base_pr, perturbed_pr)\n",
        "\n",
        "        hits_changes.append(hits_change)\n",
        "        pr_changes.append(pr_change)\n",
        "\n",
        "    return {\n",
        "        'HITS': {\n",
        "            'Average Score Change': np.mean(hits_changes),\n",
        "            'Std Dev': np.std(hits_changes)\n",
        "        },\n",
        "        'PageRank': {\n",
        "            'Average Score Change': np.mean(pr_changes),\n",
        "            'Std Dev': np.std(pr_changes)\n",
        "        }\n",
        "    }"
      ],
      "metadata": {
        "id": "EmZJMYmy072K"
      },
      "execution_count": 8,
      "outputs": []
    },
    {
      "cell_type": "code",
      "source": [
        "# Using the small 4-node graph from earlier\n",
        "small_adj = np.array([\n",
        "    [0, 1, 1, 0],\n",
        "    [0, 0, 1, 0],\n",
        "    [1, 0, 0, 1],\n",
        "    [0, 0, 1, 0]\n",
        "])\n",
        "\n",
        "stability_results = test_stability(small_adj, num_trials=1000, noise_level=0.1)"
      ],
      "metadata": {
        "id": "b5I5_Y4V2An7"
      },
      "execution_count": 9,
      "outputs": []
    },
    {
      "cell_type": "markdown",
      "source": [
        "Display stability results as formatted table"
      ],
      "metadata": {
        "id": "Q36XIsNz2SyQ"
      }
    },
    {
      "cell_type": "code",
      "source": [
        "def print_stability_results(results):\n",
        "    print(\"\\nStability Analysis Results\")\n",
        "    print(\"=\"*60)\n",
        "    print(f\"{'Algorithm':<15} | {'Avg Score Change':<20} | {'Std Dev':<15}\")\n",
        "    print(\"-\"*60)\n",
        "\n",
        "    for algo in results:\n",
        "        print(f\"{algo:<15} | {results[algo]['Average Score Change']:<20.4f} | {results[algo]['Std Dev']:<15.4f}\")\n",
        "\n",
        "    print(\"=\"*60)\n",
        "\n",
        "print_stability_results(stability_results)"
      ],
      "metadata": {
        "colab": {
          "base_uri": "https://localhost:8080/"
        },
        "id": "0NFUpErN2MAq",
        "outputId": "2bf07cbb-9f2f-4923-d1ed-e18911832f2f"
      },
      "execution_count": 10,
      "outputs": [
        {
          "output_type": "stream",
          "name": "stdout",
          "text": [
            "\n",
            "Stability Analysis Results\n",
            "============================================================\n",
            "Algorithm       | Avg Score Change     | Std Dev        \n",
            "------------------------------------------------------------\n",
            "HITS            | 0.0747               | 0.0347         \n",
            "PageRank        | 0.0137               | 0.0066         \n",
            "============================================================\n"
          ]
        }
      ]
    },
    {
      "cell_type": "markdown",
      "source": [
        "Visualize stability results using graph"
      ],
      "metadata": {
        "id": "f6KBASak2XSJ"
      }
    },
    {
      "cell_type": "code",
      "source": [
        "def plot_stability_results(results):\n",
        "    algorithms = list(results.keys())\n",
        "    means = [results[algo]['Average Score Change'] for algo in algorithms]\n",
        "    std_devs = [results[algo]['Std Dev'] for algo in algorithms]\n",
        "\n",
        "    plt.figure(figsize=(10, 6))\n",
        "    bars = plt.bar(algorithms, means, yerr=std_devs, capsize=10)\n",
        "\n",
        "    plt.xlabel('Algorithm')\n",
        "    plt.ylabel('Average Score Change')\n",
        "    plt.title('Algorithm Stability Against Perturbations')\n",
        "    plt.grid(True, axis='y', linestyle='--', alpha=0.7)\n",
        "\n",
        "    # Add value labels\n",
        "    for bar in bars:\n",
        "        height = bar.get_height()\n",
        "        plt.text(bar.get_x() + bar.get_width()/2., height,\n",
        "                 f'{height:.4f}',\n",
        "                 ha='center', va='bottom')\n",
        "\n",
        "    plt.show()\n",
        "\n",
        "plot_stability_results(stability_results)"
      ],
      "metadata": {
        "colab": {
          "base_uri": "https://localhost:8080/",
          "height": 564
        },
        "id": "Xr-I5HRW2iEs",
        "outputId": "443c23fd-5102-48f6-b172-a37eb179f2c9"
      },
      "execution_count": 11,
      "outputs": [
        {
          "output_type": "display_data",
          "data": {
            "text/plain": [
              "<Figure size 1000x600 with 1 Axes>"
            ],
            "image/png": "[encoded data removed]"
          },
          "metadata": {}
        }
      ]
    },
    {
      "cell_type": "markdown",
      "source": [
        "# Consider larger graphs. Validate that the algorithms converge numerically."
      ],
      "metadata": {
        "id": "CPCJ3vHo_sUO"
      }
    },
    {
      "cell_type": "code",
      "source": [
        "def generate_large_graphs():\n",
        "    \"\"\"Generate various types of larger graphs for testing\"\"\"\n",
        "    graphs = {\n",
        "        # Scale-free network (like web graphs)\n",
        "        'scale_free_100': nx.to_numpy_array(nx.barabasi_albert_graph(100, 2)),\n",
        "\n",
        "        # Small-world network\n",
        "        'small_world_100': nx.to_numpy_array(nx.watts_strogatz_graph(100, 4, 0.3)),\n",
        "\n",
        "        # Random graph\n",
        "        'random_100': nx.to_numpy_array(nx.erdos_renyi_graph(100, 0.05)),\n",
        "\n",
        "        # Larger scale-free\n",
        "        'scale_free_1000': nx.to_numpy_array(nx.barabasi_albert_graph(1000, 3)),\n",
        "    }\n",
        "    return graphs\n",
        "\n",
        "large_graphs = generate_large_graphs()"
      ],
      "metadata": {
        "id": "eudnhHPa_xze"
      },
      "execution_count": 12,
      "outputs": []
    },
    {
      "cell_type": "code",
      "source": [
        "def validate_convergence(graph_dict, max_iter=1000, tol=1e-6):\n",
        "    results = []\n",
        "    for name, adj_matrix in graph_dict.items():\n",
        "        n_nodes = adj_matrix.shape[0]\n",
        "\n",
        "        # Run HITS\n",
        "        hub, auth, hits_iter = hits_algorithm(adj_matrix, max_iter, tol)\n",
        "\n",
        "        # Run PageRank\n",
        "        pr, pr_iter = pagerank(adj_matrix, max_iter=max_iter, tol=tol)\n",
        "\n",
        "        # Check convergence\n",
        "        hits_converged = hits_iter < max_iter\n",
        "        pr_converged = pr_iter < max_iter\n",
        "\n",
        "        results.append({\n",
        "            'Graph': name,\n",
        "            'Nodes': n_nodes,\n",
        "            'HITS Converged': hits_converged,\n",
        "            'HITS Iterations': hits_iter,\n",
        "            'PR Converged': pr_converged,\n",
        "            'PR Iterations': pr_iter\n",
        "        })\n",
        "    return results"
      ],
      "metadata": {
        "id": "kQjwy-keSKmG"
      },
      "execution_count": 13,
      "outputs": []
    },
    {
      "cell_type": "code",
      "source": [
        "convergence_results = validate_convergence(large_graphs)"
      ],
      "metadata": {
        "id": "W_fB9SxVSQRq"
      },
      "execution_count": 14,
      "outputs": []
    },
    {
      "cell_type": "markdown",
      "source": [
        "## validate convergence using table"
      ],
      "metadata": {
        "id": "QTPxSUhJSlzO"
      }
    },
    {
      "cell_type": "code",
      "source": [
        "print(\"Convergence Validation on Large Graphs\")\n",
        "print(tabulate(convergence_results, headers=\"keys\", tablefmt=\"grid\"))"
      ],
      "metadata": {
        "colab": {
          "base_uri": "https://localhost:8080/"
        },
        "id": "8ra0S8lhSoN-",
        "outputId": "0eb7a9e6-3f61-4a4a-e788-ba006313603f"
      },
      "execution_count": 15,
      "outputs": [
        {
          "output_type": "stream",
          "name": "stdout",
          "text": [
            "Convergence Validation on Large Graphs\n",
            "+-----------------+---------+------------------+-------------------+----------------+-----------------+\n",
            "| Graph           |   Nodes | HITS Converged   |   HITS Iterations | PR Converged   |   PR Iterations |\n",
            "+=================+=========+==================+===================+================+=================+\n",
            "| scale_free_100  |     100 | True             |                27 | True           |              28 |\n",
            "+-----------------+---------+------------------+-------------------+----------------+-----------------+\n",
            "| small_world_100 |     100 | True             |                57 | True           |              22 |\n",
            "+-----------------+---------+------------------+-------------------+----------------+-----------------+\n",
            "| random_100      |     100 | True             |                20 | True           |              24 |\n",
            "+-----------------+---------+------------------+-------------------+----------------+-----------------+\n",
            "| scale_free_1000 |    1000 | True             |                21 | True           |              18 |\n",
            "+-----------------+---------+------------------+-------------------+----------------+-----------------+\n"
          ]
        }
      ]
    },
    {
      "cell_type": "markdown",
      "source": [
        "## validate convergence numerically"
      ],
      "metadata": {
        "id": "RwPK1KdcS8qI"
      }
    },
    {
      "cell_type": "code",
      "source": [
        "def verify_numerical_convergence(adj_matrix, algorithm='hits'):\n",
        "    \"\"\"Verify numerical properties of convergence\"\"\"\n",
        "    if algorithm == 'hits':\n",
        "        hub, auth, iters = hits_algorithm(adj_matrix, tol=1e-10)\n",
        "        # Check if scores sum to 1 (after normalization)\n",
        "        print(f\"HITS - Hub sum: {hub.sum():.6f}, Auth sum: {auth.sum():.6f}\")\n",
        "        return hub, auth\n",
        "    else:\n",
        "        pr, iters = pagerank(adj_matrix, tol=1e-10)\n",
        "        print(f\"PageRank - Sum: {pr.sum():.6f}\")\n",
        "        return pr\n",
        "\n",
        "# Test on a large graph\n",
        "large_matrix = large_graphs['scale_free_1000']\n",
        "print(\"\\nNumerical Verification:\")\n",
        "hits_result = verify_numerical_convergence(large_matrix, 'hits')\n",
        "pr_result = verify_numerical_convergence(large_matrix, 'pagerank')"
      ],
      "metadata": {
        "colab": {
          "base_uri": "https://localhost:8080/"
        },
        "id": "8KzQqFoKTMCW",
        "outputId": "7cca3659-8d1c-4813-c6ed-c1b1890839ca"
      },
      "execution_count": 16,
      "outputs": [
        {
          "output_type": "stream",
          "name": "stdout",
          "text": [
            "\n",
            "Numerical Verification:\n",
            "HITS - Hub sum: 18.845723, Auth sum: 18.845723\n",
            "PageRank - Sum: 1.000000\n"
          ]
        }
      ]
    },
    {
      "cell_type": "markdown",
      "source": [
        "## analyse convergence rates"
      ],
      "metadata": {
        "id": "b8Mt8zWTXeeZ"
      }
    },
    {
      "cell_type": "code",
      "source": [
        "def analyze_convergence_rates(graph_dict):\n",
        "    data = []\n",
        "\n",
        "    for name, adj_matrix in graph_dict.items():\n",
        "        sizes = []\n",
        "        hits_iters = []\n",
        "        pr_iters = []\n",
        "\n",
        "        # Test with different tolerance levels\n",
        "        for tol in [1e-4, 1e-6, 1e-8]:\n",
        "            _, _, hits_iter = hits_algorithm(adj_matrix, tol=tol)\n",
        "            _, pr_iter = pagerank(adj_matrix, tol=tol)\n",
        "\n",
        "            sizes.append(adj_matrix.shape[0])\n",
        "            hits_iters.append(hits_iter)\n",
        "            pr_iters.append(pr_iter)\n",
        "\n",
        "        data.append({\n",
        "            'Graph': name,\n",
        "            'Size': adj_matrix.shape[0],\n",
        "            'HITS_1e-4': hits_iters[0],\n",
        "            'HITS_1e-6': hits_iters[1],\n",
        "            'HITS_1e-8': hits_iters[2],\n",
        "            'PR_1e-4': pr_iters[0],\n",
        "            'PR_1e-6': pr_iters[1],\n",
        "            'PR_1e-8': pr_iters[2]\n",
        "        })\n",
        "\n",
        "    return data\n",
        "\n",
        "convergence_rates = analyze_convergence_rates(large_graphs)\n",
        "print(tabulate(convergence_rates, headers=\"keys\", tablefmt=\"grid\"))"
      ],
      "metadata": {
        "colab": {
          "base_uri": "https://localhost:8080/"
        },
        "id": "mIiqALUtXdPA",
        "outputId": "d59f138f-a558-4acc-d134-8f7db9a61824"
      },
      "execution_count": 18,
      "outputs": [
        {
          "output_type": "stream",
          "name": "stdout",
          "text": [
            "+-----------------+--------+-------------+-------------+-------------+-----------+-----------+-----------+\n",
            "| Graph           |   Size |   HITS_1e-4 |   HITS_1e-6 |   HITS_1e-8 |   PR_1e-4 |   PR_1e-6 |   PR_1e-8 |\n",
            "+=================+========+=============+=============+=============+===========+===========+===========+\n",
            "| scale_free_100  |    100 |          17 |          27 |          37 |        16 |        28 |        40 |\n",
            "+-----------------+--------+-------------+-------------+-------------+-----------+-----------+-----------+\n",
            "| small_world_100 |    100 |          31 |          57 |          83 |        10 |        22 |        38 |\n",
            "+-----------------+--------+-------------+-------------+-------------+-----------+-----------+-----------+\n",
            "| random_100      |    100 |          13 |          20 |          27 |        13 |        24 |        36 |\n",
            "+-----------------+--------+-------------+-------------+-------------+-----------+-----------+-----------+\n",
            "| scale_free_1000 |   1000 |          13 |          21 |          28 |        10 |        18 |        27 |\n",
            "+-----------------+--------+-------------+-------------+-------------+-----------+-----------+-----------+\n"
          ]
        }
      ]
    },
    {
      "cell_type": "markdown",
      "source": [
        "## Visualize convergence using graph"
      ],
      "metadata": {
        "id": "Q5Y3yA4ZXl_J"
      }
    },
    {
      "cell_type": "code",
      "source": [
        "def plot_convergence_behavior(results):\n",
        "    plt.figure(figsize=(12, 6))\n",
        "\n",
        "    # Prepare data\n",
        "    sizes = [res['Size'] for res in results]\n",
        "    hits_iters = [res['HITS_1e-6'] for res in results]\n",
        "    pr_iters = [res['PR_1e-6'] for res in results]\n",
        "\n",
        "    # Plot\n",
        "    plt.plot(sizes, hits_iters, 'o-', label='HITS (tol=1e-6)')\n",
        "    plt.plot(sizes, pr_iters, 's-', label='PageRank (tol=1e-6)')\n",
        "\n",
        "    plt.xlabel('Graph Size (nodes)')\n",
        "    plt.ylabel('Iterations to Convergence')\n",
        "    plt.title('Convergence Behavior on Different Graph Sizes')\n",
        "    plt.legend()\n",
        "    plt.grid(True)\n",
        "    plt.show()\n",
        "\n",
        "plot_convergence_behavior(convergence_rates)"
      ],
      "metadata": {
        "colab": {
          "base_uri": "https://localhost:8080/",
          "height": 564
        },
        "id": "Gcec-rFLXpAl",
        "outputId": "6f82ecaf-c1d7-4850-bfda-079bcbc665a1"
      },
      "execution_count": 19,
      "outputs": [
        {
          "output_type": "display_data",
          "data": {
            "text/plain": [
              "<Figure size 1200x600 with 1 Axes>"
            ],
            "image/png": "[encoded data removed]"
          },
          "metadata": {}
        }
      ]
    },
    {
      "cell_type": "markdown",
      "source": [
        "# Generative Search Engine"
      ],
      "metadata": {
        "id": "b66AKp8k4Okf"
      }
    },
    {
      "cell_type": "code",
      "source": [
        "class GenerativeSearchEngine:\n",
        "    def __init__(self, llm_model, graph_algorithm='pagerank'):\n",
        "        self.llm = llm_model\n",
        "        self.graph_algorithm = graph_algorithm\n",
        "        self.index = {}\n",
        "\n",
        "    def index_document(self, doc_id, content, links):\n",
        "        self.index[doc_id] = {\n",
        "            'content': content,\n",
        "            'links': links,\n",
        "            'embedding': self.llm.embed(content)\n",
        "        }\n",
        "\n",
        "    def search(self, query, top_k=10):\n",
        "        # Step 1: Traditional link analysis\n",
        "        adj_matrix = self._build_adjacency_matrix()\n",
        "        if self.graph_algorithm == 'hits':\n",
        "            _, auth_scores = hits_algorithm(adj_matrix)\n",
        "        else:\n",
        "            auth_scores = pagerank(adj_matrix)\n",
        "\n",
        "        # Step 2: Semantic matching\n",
        "        query_embedding = self.llm.embed(query)\n",
        "        semantic_scores = {\n",
        "            doc_id: cosine_similarity(query_embedding, doc['embedding'])\n",
        "            for doc_id, doc in self.index.items()\n",
        "        }\n",
        "\n",
        "        # Step 3: Combined ranking\n",
        "        combined_scores = {\n",
        "            doc_id: 0.7*auth_scores[doc_id] + 0.3*semantic_scores[doc_id]\n",
        "            for doc_id in self.index\n",
        "        }\n",
        "\n",
        "        # Step 4: Generate enhanced results\n",
        "        results = []\n",
        "        for doc_id in sorted(combined_scores, key=combined_scores.get, reverse=True)[:top_k]:\n",
        "            doc = self.index[doc_id]\n",
        "            summary = self.llm.generate(\n",
        "                f\"Summarize this document for query '{query}': {doc['content']}\"\n",
        "            )\n",
        "            results.append({\n",
        "                'doc_id': doc_id,\n",
        "                'score': combined_scores[doc_id],\n",
        "                'summary': summary\n",
        "            })\n",
        "\n",
        "        return results"
      ],
      "metadata": {
        "id": "y05JEYRy4SLp"
      },
      "execution_count": 20,
      "outputs": []
    }
  ]
}